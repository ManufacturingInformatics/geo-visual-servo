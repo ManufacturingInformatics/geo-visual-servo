{
 "cells": [
  {
   "cell_type": "code",
   "execution_count": 2,
   "id": "9abab28d-21e3-4f1f-9f62-57b66909b730",
   "metadata": {},
   "outputs": [],
   "source": [
    "import jax.numpy as jnp"
   ]
  },
  {
   "cell_type": "code",
   "execution_count": 5,
   "id": "50787a92-85e4-4542-8e14-2c72384c543c",
   "metadata": {},
   "outputs": [
    {
     "data": {
      "text/plain": [
       "['joints',\n",
       " 'geo_vals',\n",
       " 'rot_errors',\n",
       " 'pos_errors',\n",
       " 'mass_vals',\n",
       " 'jac_vals',\n",
       " 'qdot_vals',\n",
       " 'grav_vals',\n",
       " 'pose_vals',\n",
       " 'cart_vel_val',\n",
       " 'momenta']"
      ]
     },
     "execution_count": 5,
     "metadata": {},
     "output_type": "execute_result"
    }
   ],
   "source": [
    "pose_1 = jnp.load('data/pose_1.npz')\n",
    "pose_2 = jnp.load('data/pose_2.npz')\n",
    "pose_3 = jnp.load('data/pose_3.npz')\n",
    "pose_4 = jnp.load('data/pose_4.npz')\n",
    "poses = [pose_1, pose_2, pose_3, pose_4]\n",
    "pose_1.files"
   ]
  },
  {
   "cell_type": "code",
   "execution_count": 10,
   "id": "d0cfcb14-d23a-4990-ba51-612431e6ee3d",
   "metadata": {},
   "outputs": [
    {
     "data": {
      "text/plain": [
       "array([[-0.6325    , -0.47329998, -0.6132    , -0.1566    ],\n",
       "       [-0.24949999,  0.8739    , -0.4172    ,  0.4886    ],\n",
       "       [ 0.7333    , -0.1108    , -0.6708    ,  0.3385    ],\n",
       "       [ 0.        ,  0.        ,  0.        ,  1.        ]],\n",
       "      dtype=float32)"
      ]
     },
     "execution_count": 10,
     "metadata": {},
     "output_type": "execute_result"
    }
   ],
   "source": [
    "poses[0]['pose_vals'][0]"
   ]
  },
  {
   "cell_type": "code",
   "execution_count": 12,
   "id": "df0828b5-1ce2-4d2c-bf8b-54a96747cf60",
   "metadata": {},
   "outputs": [
    {
     "data": {
      "text/plain": [
       "array([[ 0.0483    , -0.816     , -0.576     , -0.0721    ],\n",
       "       [-0.8538    ,  0.26549998, -0.44779998,  0.5427    ],\n",
       "       [ 0.5184    ,  0.51339996, -0.6839    ,  0.1549    ],\n",
       "       [ 0.        ,  0.        ,  0.        ,  1.        ]],\n",
       "      dtype=float32)"
      ]
     },
     "execution_count": 12,
     "metadata": {},
     "output_type": "execute_result"
    }
   ],
   "source": [
    "poses[1]['pose_vals'][0]"
   ]
  },
  {
   "cell_type": "code",
   "execution_count": 14,
   "id": "c6b9de33-4e0e-4448-969a-e9d92ad2dd3f",
   "metadata": {},
   "outputs": [
    {
     "data": {
      "text/plain": [
       "array([[-0.1829    , -0.6221    , -0.76129997, -0.09999999],\n",
       "       [-0.97789997,  0.195     ,  0.0756    ,  0.34289998],\n",
       "       [ 0.1014    ,  0.7583    , -0.644     ,  0.3101    ],\n",
       "       [ 0.        ,  0.        ,  0.        ,  1.        ]],\n",
       "      dtype=float32)"
      ]
     },
     "execution_count": 14,
     "metadata": {},
     "output_type": "execute_result"
    }
   ],
   "source": [
    "poses[2]['pose_vals'][0]"
   ]
  },
  {
   "cell_type": "code",
   "execution_count": 16,
   "id": "a1ad0ca2-42d0-42ec-8c45-ded235c1bc55",
   "metadata": {},
   "outputs": [
    {
     "data": {
      "text/plain": [
       "array([[ 0.2844    ,  0.2483    , -0.926     , -0.0464    ],\n",
       "       [ 0.65209997,  0.6579    ,  0.37669998,  0.2067    ],\n",
       "       [ 0.7028    , -0.71099997,  0.0252    ,  0.0662    ],\n",
       "       [ 0.        ,  0.        ,  0.        ,  1.        ]],\n",
       "      dtype=float32)"
      ]
     },
     "execution_count": 16,
     "metadata": {},
     "output_type": "execute_result"
    }
   ],
   "source": [
    "poses[3]['pose_vals'][0]"
   ]
  },
  {
   "cell_type": "code",
   "execution_count": 20,
   "id": "c6ac9d65-2def-45ab-8600-7d01ea7b2076",
   "metadata": {},
   "outputs": [
    {
     "data": {
      "text/plain": [
       "array([[ 0.012     ,  0.0734    , -0.99719995, -0.2701    ],\n",
       "       [ 0.014     ,  0.99719995,  0.0735    ,  0.3125    ],\n",
       "       [ 0.99979997, -0.0149    ,  0.011     ,  0.0387    ],\n",
       "       [ 0.        ,  0.        ,  0.        ,  1.        ]],\n",
       "      dtype=float32)"
      ]
     },
     "execution_count": 20,
     "metadata": {},
     "output_type": "execute_result"
    }
   ],
   "source": [
    "target_pose = jnp.load('data/target_square_hole.npz')\n",
    "target_pose['pose']"
   ]
  },
  {
   "cell_type": "code",
   "execution_count": null,
   "id": "d06f21b4-a5a6-4a9c-ae5e-c2f24fa36412",
   "metadata": {},
   "outputs": [],
   "source": []
  }
 ],
 "metadata": {
  "kernelspec": {
   "display_name": "Python [conda env:geo-vs-analysis]",
   "language": "python",
   "name": "conda-env-geo-vs-analysis-py"
  },
  "language_info": {
   "codemirror_mode": {
    "name": "ipython",
    "version": 3
   },
   "file_extension": ".py",
   "mimetype": "text/x-python",
   "name": "python",
   "nbconvert_exporter": "python",
   "pygments_lexer": "ipython3",
   "version": "3.10.16"
  }
 },
 "nbformat": 4,
 "nbformat_minor": 5
}
