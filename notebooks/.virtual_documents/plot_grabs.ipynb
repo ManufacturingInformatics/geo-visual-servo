import jax.numpy as jnp
import matplotlib.pyplot as plt
import scienceplots

plt.style.use(['science', 'notebook'])
cm = 1/2.54


pose_1 = jnp.load('data/pose_1.npz')
pose_2 = jnp.load('data/pose_2.npz')
pose_3 = jnp.load('data/pose_3.npz')
pose_4 = jnp.load('data/pose_4.npz')
pose_1.files





pose_1_geo_vals = pose_1['geo_vals'][0:101]
pose_2_geo_vals = pose_2['geo_vals'][0:101]
pose_3_geo_vals = pose_3['geo_vals'][0:101]
pose_4_geo_vals = pose_4['geo_vals'][0:101]

plt.figure(figsize=(8.89*cm,8.89*cm), dpi=500)
plt.ylim([-0.1, 1])
plt.xlabel('Time $t$')
plt.ylabel('$d(\mathfrak{g}_t, \mathfrak{g}_1)$')
plt.plot(pose_1_geo_vals)
plt.plot(pose_2_geo_vals)
plt.plot(pose_3_geo_vals)
plt.plot(pose_4_geo_vals)
plt.legend(['Pose 1', 'Pose 2', 'Pose 3', 'Pose 4'])
# plt.savefig('geodesic.png', dpi=500)
plt.show()


pose_1_rot_errors = pose_1['rot_errors'][0:101]
pose_2_rot_errors = pose_2['rot_errors'][0:101]
pose_3_rot_errors = pose_3['rot_errors'][0:101]
pose_4_rot_errors = pose_4['rot_errors'][0:101]

plt.figure(figsize=(8.89*cm,8.89*cm), dpi=500)
plt.ylim([-0.05, 0.55])
plt.xlabel('Time $t$')
plt.ylabel('$\delta_\mathbf{R}(\mathfrak{g}_t, \mathfrak{g}_1)$')
plt.plot(pose_1_rot_errors)
plt.plot(pose_2_rot_errors)
plt.plot(pose_3_rot_errors)
plt.plot(pose_4_rot_errors)
plt.legend(['Pose 1', 'Pose 2', 'Pose 3', 'Pose 4'])
# plt.savefig('rot_error.png', dpi=500)
plt.show()


pose_1_pos_errors = pose_1['pos_errors'][0:101]
pose_2_pos_errors = pose_2['pos_errors'][0:101]
pose_3_pos_errors = pose_3['pos_errors'][0:101]
pose_4_pos_errors = pose_4['pos_errors'][0:101]

plt.figure(figsize=(8.89*cm,8.89*cm), dpi=500)
plt.ylim([-0.01, 0.15])
plt.xlabel('Time $t$')
plt.ylabel('$\delta_\mathbf{p}(\mathfrak{g}_t, \mathfrak{g}_1)$')
plt.plot(pose_1_pos_errors)
plt.plot(pose_2_pos_errors)
plt.plot(pose_3_pos_errors)
plt.plot(pose_4_pos_errors)
plt.legend(['Pose 1', 'Pose 2', 'Pose 3', 'Pose 4'])
# plt.savefig('pos_error.png', dpi=500)
plt.show()


pose_1_mass = pose_1['mass_vals']
pose_1_jac_vals = pose_1['jac_vals']
pose_1_qdot = pose_1['qdot_vals']
pose_1_tcp = pose_1_jac_vals @ pose_1_qdot


pose_1_pose = pose_1['pose_vals']
positions_1 = pose_1_pose[:,0:3,-1]
positions_1.shape


poses = [pose_1, pose_2, pose_3, pose_4]

ax = plt.figure().add_subplot(projection='3d')
for i in range(0,3):
    pose = poses[i]['pose_vals']
    positions = pose_1_pose[:,0:3,-1]
    print(positions[0])
    x = positions[:,0]
    y = positions[:,1]
    z = positions[:,2]
    ax.plot(x,y,z)
plt.show()



