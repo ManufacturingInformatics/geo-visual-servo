import jax.numpy as jnp
import matplotlib.pyplot as plt


pose_1 = jnp.load('data/pose_1.npz')



