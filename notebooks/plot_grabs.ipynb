{
 "cells": [
  {
   "cell_type": "code",
   "execution_count": 1,
   "id": "fa63961e-9aed-43d7-a2f4-2b71197d193e",
   "metadata": {},
   "outputs": [],
   "source": [
    "import jax.numpy as jnp\n",
    "import matplotlib.pyplot as plt"
   ]
  },
  {
   "cell_type": "code",
   "execution_count": 9,
   "id": "34a39988-58a5-481b-84a3-851213f362e5",
   "metadata": {},
   "outputs": [
    {
     "data": {
      "text/plain": [
       "['joints',\n",
       " 'geo_vals',\n",
       " 'rot_errors',\n",
       " 'pos_errors',\n",
       " 'mass_vals',\n",
       " 'jac_vals',\n",
       " 'qdot_vals',\n",
       " 'grav_vals',\n",
       " 'pose_vals']"
      ]
     },
     "execution_count": 9,
     "metadata": {},
     "output_type": "execute_result"
    }
   ],
   "source": [
    "pose_1 = jnp.load('pose_1.npz')\n",
    "pose_1.files"
   ]
  },
  {
   "cell_type": "code",
   "execution_count": null,
   "id": "7fae40e9-56c5-4a4b-a11b-e13cbbd9b910",
   "metadata": {},
   "outputs": [],
   "source": []
  }
 ],
 "metadata": {
  "kernelspec": {
   "display_name": "Python 3 (ipykernel)",
   "language": "python",
   "name": "python3"
  },
  "language_info": {
   "codemirror_mode": {
    "name": "ipython",
    "version": 3
   },
   "file_extension": ".py",
   "mimetype": "text/x-python",
   "name": "python",
   "nbconvert_exporter": "python",
   "pygments_lexer": "ipython3",
   "version": "3.10.16"
  }
 },
 "nbformat": 4,
 "nbformat_minor": 5
}
