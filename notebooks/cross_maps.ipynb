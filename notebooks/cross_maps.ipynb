{
 "cells": [
  {
   "cell_type": "code",
   "execution_count": 1,
   "id": "65d5ed7f-2b05-4e1a-beb4-54f7bbc3aa9f",
   "metadata": {},
   "outputs": [],
   "source": [
    "import jax.numpy as jnp\n",
    "\n",
    "def pose_cross_map(pose) -> jnp.ndarray:\n",
    "    R = pose[0:3, 0:3]\n",
    "    g_cross = jnp.zeros((6,6))\n",
    "    g_cross = g_cross.at[0:3, 0:3].set(R)\n",
    "    g_cross = g_cross.at[3:6, 3:6].set(R)\n",
    "    return g_cross"
   ]
  },
  {
   "cell_type": "code",
   "execution_count": 2,
   "id": "3e36e113-258e-42e1-ae1a-f29b93e90159",
   "metadata": {},
   "outputs": [
    {
     "data": {
      "text/plain": [
       "Array([[1., 1., 1., 1., 1., 1.],\n",
       "       [1., 1., 1., 1., 1., 1.],\n",
       "       [1., 1., 1., 1., 1., 1.],\n",
       "       [1., 1., 1., 1., 1., 1.],\n",
       "       [1., 1., 1., 1., 1., 1.],\n",
       "       [1., 1., 1., 1., 1., 1.]], dtype=float32)"
      ]
     },
     "execution_count": 2,
     "metadata": {},
     "output_type": "execute_result"
    }
   ],
   "source": [
    "mat = jnp.ones((6,6))\n",
    "mat"
   ]
  },
  {
   "cell_type": "code",
   "execution_count": 3,
   "id": "ba793d50-a684-4d70-9583-a24218776668",
   "metadata": {},
   "outputs": [
    {
     "data": {
      "text/plain": [
       "Array([[1., 1., 1., 0., 0., 0.],\n",
       "       [1., 1., 1., 0., 0., 0.],\n",
       "       [1., 1., 1., 0., 0., 0.],\n",
       "       [0., 0., 0., 1., 1., 1.],\n",
       "       [0., 0., 0., 1., 1., 1.],\n",
       "       [0., 0., 0., 1., 1., 1.]], dtype=float32)"
      ]
     },
     "execution_count": 3,
     "metadata": {},
     "output_type": "execute_result"
    }
   ],
   "source": [
    "pose_cross_map(mat)"
   ]
  },
  {
   "cell_type": "code",
   "execution_count": 4,
   "id": "464d46eb-d50f-47b1-9c12-75c714dc2167",
   "metadata": {},
   "outputs": [],
   "source": [
    "def momenta_cross_map(pose, mass_matrix, jacobian, joint_speeds) -> jnp.ndarray:\n",
    "    # TODO - Finish the conjugate momenta cross map\n",
    "    if joint_speeds.shape != (6,1):\n",
    "        joint_speeds = joint_speeds.T\n",
    "    j_inv = jnp.linalg.pinv(jacobian)\n",
    "    m_bar = j_inv.T @ mass_matrix @ j_inv\n",
    "    twist = jacobian @ joint_speeds\n",
    "    momenta = m_bar @ twist\n",
    "    momenta_cross = jnp.zeros((6,6))\n",
    "\n",
    "def hat_map(x: jnp.ndarray) -> jnp.ndarray:\n",
    "    \"\"\"\n",
    "    Computes the skew-symmetric map from R^3 to SE(3). \n",
    "\n",
    "    Args:\n",
    "        x (jnp.ndarray): Input vector in R^3\n",
    "\n",
    "    Returns:\n",
    "        jnp.ndarray: Returns hat map of the \n",
    "    \"\"\"\n",
    "    assert x.shape == (1,3)\n",
    "    x_hat = jnp.array([\n",
    "        [0, -x[0][2], x[0][1]],\n",
    "        [x[0][2], 0, -x[0][0]],\n",
    "        [-x[0][1], x[0][0], 0]\n",
    "    ])\n",
    "    return x_hat"
   ]
  },
  {
   "cell_type": "code",
   "execution_count": 5,
   "id": "9d54283d-4ec3-4b04-b187-8771fb623294",
   "metadata": {},
   "outputs": [
    {
     "data": {
      "text/plain": [
       "Array([[1, 2, 3, 4, 5, 6]], dtype=int32)"
      ]
     },
     "execution_count": 5,
     "metadata": {},
     "output_type": "execute_result"
    }
   ],
   "source": [
    "vec = jnp.array([[1, 2, 3, 4, 5, 6]])\n",
    "vec[0:3]"
   ]
  },
  {
   "cell_type": "code",
   "execution_count": 6,
   "id": "4451270d-00d2-4bfe-a770-c3cdc49c4bf3",
   "metadata": {},
   "outputs": [
    {
     "data": {
      "text/plain": [
       "Array([[ 0, -6,  5],\n",
       "       [ 6,  0, -4],\n",
       "       [-5,  4,  0]], dtype=int32)"
      ]
     },
     "execution_count": 6,
     "metadata": {},
     "output_type": "execute_result"
    }
   ],
   "source": [
    "hat_map(vec[0][3:6].reshape((1,3)))"
   ]
  },
  {
   "cell_type": "code",
   "execution_count": 7,
   "id": "8dec0922-d0d3-4105-a6bb-efda457d9077",
   "metadata": {},
   "outputs": [
    {
     "data": {
      "text/plain": [
       "Array([[0., 0., 0., 0., 0., 0.],\n",
       "       [0., 0., 0., 0., 0., 0.],\n",
       "       [0., 0., 0., 0., 0., 0.],\n",
       "       [0., 0., 0., 0., 0., 0.],\n",
       "       [0., 0., 0., 0., 0., 0.],\n",
       "       [0., 0., 0., 0., 0., 0.]], dtype=float32)"
      ]
     },
     "execution_count": 7,
     "metadata": {},
     "output_type": "execute_result"
    }
   ],
   "source": [
    "m_cross = jnp.zeros((6,6))\n",
    "m_cross"
   ]
  },
  {
   "cell_type": "code",
   "execution_count": 8,
   "id": "6c64483b-d9b0-4c50-a5fb-cc7a788e361c",
   "metadata": {},
   "outputs": [
    {
     "data": {
      "text/plain": [
       "Array([[ 0.,  0.,  0.,  0., -3.,  2.],\n",
       "       [ 0.,  0.,  0.,  3.,  0., -1.],\n",
       "       [ 0.,  0.,  0., -2.,  1.,  0.],\n",
       "       [ 0., -3.,  2.,  0., -6.,  5.],\n",
       "       [ 3.,  0., -1.,  6.,  0., -4.],\n",
       "       [-2.,  1.,  0., -5.,  4.,  0.]], dtype=float32)"
      ]
     },
     "execution_count": 8,
     "metadata": {},
     "output_type": "execute_result"
    }
   ],
   "source": [
    "m_cross = m_cross.at[0:3,3:6].set(hat_map(vec[0][0:3].reshape((1,3))))\n",
    "m_cross = m_cross.at[3:6,0:3].set(hat_map(vec[0][0:3].reshape((1,3))))\n",
    "m_cross = m_cross.at[3:6,3:6].set(hat_map(vec[0][3:6].reshape((1,3))))\n",
    "m_cross"
   ]
  },
  {
   "cell_type": "code",
   "execution_count": 9,
   "id": "1df52823-16c8-4c9a-9978-841b2a78bd48",
   "metadata": {},
   "outputs": [
    {
     "data": {
      "text/plain": [
       "(6, 6)"
      ]
     },
     "execution_count": 9,
     "metadata": {},
     "output_type": "execute_result"
    }
   ],
   "source": [
    "m_cross.shape"
   ]
  },
  {
   "cell_type": "code",
   "execution_count": 10,
   "id": "e7b4400a-37ca-4961-883c-149d38e50a87",
   "metadata": {},
   "outputs": [],
   "source": [
    "arr = jnp.array([\n",
    "    [1,2,3,4],\n",
    "    [1,2,3,4],\n",
    "    [1,2,3,4],\n",
    "    [1,2,3,4]])\n",
    "R = arr[0:3,0:3]\n",
    "p = arr[0:3,-1].reshape((3,1))"
   ]
  },
  {
   "cell_type": "code",
   "execution_count": 11,
   "id": "fff72b69-62a3-4f12-8cfd-684cfeb0d9af",
   "metadata": {},
   "outputs": [
    {
     "data": {
      "text/plain": [
       "(Array([[1, 2, 3],\n",
       "        [1, 2, 3],\n",
       "        [1, 2, 3]], dtype=int32),\n",
       " (3, 1))"
      ]
     },
     "execution_count": 11,
     "metadata": {},
     "output_type": "execute_result"
    }
   ],
   "source": [
    "R, p.shape"
   ]
  },
  {
   "cell_type": "code",
   "execution_count": 12,
   "id": "11aac8eb-ee44-4736-8e00-8fb86919f5b9",
   "metadata": {},
   "outputs": [
    {
     "data": {
      "text/plain": [
       "Array([[4],\n",
       "       [5],\n",
       "       [6]], dtype=int32)"
      ]
     },
     "execution_count": 12,
     "metadata": {},
     "output_type": "execute_result"
    }
   ],
   "source": [
    "error = jnp.array([[1,2,3,4,5,6]]).T\n",
    "error[3:6]"
   ]
  },
  {
   "cell_type": "code",
   "execution_count": 13,
   "id": "b8bc40db-92fc-4de8-90c3-28372ed91118",
   "metadata": {},
   "outputs": [
    {
     "data": {
      "text/plain": [
       "Array([[0.5],\n",
       "       [1. ],\n",
       "       [1.5],\n",
       "       [2. ],\n",
       "       [2.5],\n",
       "       [3. ]], dtype=float32, weak_type=True)"
      ]
     },
     "execution_count": 13,
     "metadata": {},
     "output_type": "execute_result"
    }
   ],
   "source": [
    "0.5*error"
   ]
  },
  {
   "cell_type": "code",
   "execution_count": 14,
   "id": "5b24c4a7-f844-4943-95d5-0c743eb33950",
   "metadata": {},
   "outputs": [
    {
     "data": {
      "text/plain": [
       "Array([[10],\n",
       "       [ 2],\n",
       "       [ 3],\n",
       "       [ 4],\n",
       "       [ 5],\n",
       "       [ 6]], dtype=int32)"
      ]
     },
     "execution_count": 14,
     "metadata": {},
     "output_type": "execute_result"
    }
   ],
   "source": [
    "error.at[0].set(10)"
   ]
  },
  {
   "cell_type": "code",
   "execution_count": 18,
   "id": "2b6a6e97-87f4-40eb-988a-384240db4d84",
   "metadata": {},
   "outputs": [
    {
     "data": {
      "text/plain": [
       "Array([[1.],\n",
       "       [1.],\n",
       "       [1.],\n",
       "       [1.],\n",
       "       [1.],\n",
       "       [1.]], dtype=float32)"
      ]
     },
     "execution_count": 18,
     "metadata": {},
     "output_type": "execute_result"
    }
   ],
   "source": [
    "vec = jnp.ones((6,1))\n",
    "vec"
   ]
  },
  {
   "cell_type": "code",
   "execution_count": 19,
   "id": "6ee3508d-48ba-48d3-96fb-b675a03af7c6",
   "metadata": {},
   "outputs": [
    {
     "data": {
      "text/plain": [
       "(6, 1)"
      ]
     },
     "execution_count": 19,
     "metadata": {},
     "output_type": "execute_result"
    }
   ],
   "source": [
    "vec[:,0:3].shape"
   ]
  },
  {
   "cell_type": "code",
   "execution_count": 21,
   "id": "efc1839a-eb49-4d17-a716-afe4404002b1",
   "metadata": {},
   "outputs": [
    {
     "name": "stdout",
     "output_type": "stream",
     "text": [
      "4\n",
      "3\n",
      "2\n",
      "1\n",
      "0\n"
     ]
    }
   ],
   "source": [
    "for i in range(vec.shape[0]-2, -1,-1):\n",
    "    print(i)"
   ]
  },
  {
   "cell_type": "code",
   "execution_count": null,
   "id": "55783c29-66b6-4082-867c-0d04dfebae56",
   "metadata": {},
   "outputs": [],
   "source": []
  }
 ],
 "metadata": {
  "kernelspec": {
   "display_name": "Python 3 (ipykernel)",
   "language": "python",
   "name": "python3"
  },
  "language_info": {
   "codemirror_mode": {
    "name": "ipython",
    "version": 3
   },
   "file_extension": ".py",
   "mimetype": "text/x-python",
   "name": "python",
   "nbconvert_exporter": "python",
   "pygments_lexer": "ipython3",
   "version": "3.10.16"
  }
 },
 "nbformat": 4,
 "nbformat_minor": 5
}
