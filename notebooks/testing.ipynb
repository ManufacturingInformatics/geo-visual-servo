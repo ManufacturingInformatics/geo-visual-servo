{
 "cells": [
  {
   "cell_type": "code",
   "execution_count": 2,
   "metadata": {},
   "outputs": [
    {
     "data": {
      "text/plain": [
       "np.float64(0.0)"
      ]
     },
     "execution_count": 2,
     "metadata": {},
     "output_type": "execute_result"
    }
   ],
   "source": [
    "import numpy as np\n",
    "import yaml\n",
    "\n",
    "mass_vals = np.zeros((2,))\n",
    "mass_vals[1]"
   ]
  },
  {
   "cell_type": "code",
   "execution_count": 5,
   "metadata": {},
   "outputs": [
    {
     "data": {
      "text/plain": [
       "(array([2.3814 , 2.2675 , 1.875  , 1.3192 , 1.33854, 0.17   ]),\n",
       " [array([[ 5.856200e-03,  1.790000e-05, -3.550000e-06],\n",
       "         [ 0.000000e+00,  5.031600e-03,  8.883360e-04],\n",
       "         [ 0.000000e+00,  0.000000e+00,  3.536652e-03]]),\n",
       "  array([[ 0.02831578, -0.005     , -0.00066546],\n",
       "         [ 0.        ,  0.0058    ,  0.0045741 ],\n",
       "         [ 0.        ,  0.        ,  0.0273447 ]]),\n",
       "  array([[ 0.0063483 ,  0.0015397 , -0.00096858],\n",
       "         [ 0.        ,  0.00379758, -0.00186567],\n",
       "         [ 0.        ,  0.        ,  0.00595768]]),\n",
       "  array([[4.89600e-03, 6.92500e-06, 1.41800e-05],\n",
       "         [0.00000e+00, 4.45694e-03, 2.31860e-04],\n",
       "         [0.00000e+00, 0.00000e+00, 1.34332e-03]]),\n",
       "  array([[ 0.00146378,  0.00045062, -0.00028431],\n",
       "         [ 0.        ,  0.00184192, -0.00013087],\n",
       "         [ 0.        ,  0.        ,  0.00233352]]),\n",
       "  array([[9.30e-05, 0.00e+00, 0.00e+00],\n",
       "         [0.00e+00, 5.87e-05, 3.60e-06],\n",
       "         [0.00e+00, 0.00e+00, 1.32e-04]])])"
      ]
     },
     "execution_count": 5,
     "metadata": {},
     "output_type": "execute_result"
    }
   ],
   "source": [
    "def load_inertia_params():\n",
    "    \n",
    "    mass_vals = np.zeros((6,))\n",
    "    inertia_vals = []\n",
    "    with open('./config/xarm6_inertia.yaml', 'r') as file:\n",
    "        inertia_params = yaml.safe_load(file)\n",
    "        for i in range(0,6):\n",
    "            link = 'link' + str(i+1)\n",
    "            inertia = inertia_params[link]['inertia']\n",
    "            inertia_vals.append(\n",
    "                np.array(\n",
    "                    [[inertia['ixx'], -inertia['ixy'], -inertia['ixz']],\n",
    "                     [0, inertia['iyy'], -inertia['iyz']],\n",
    "                     [0, 0, inertia['izz']]]\n",
    "                )\n",
    "            )\n",
    "            mass_vals[i] = inertia_params[link]['mass']\n",
    "\n",
    "        return mass_vals, inertia_vals\n",
    "            \n",
    "mass, inertia = load_inertia_params()\n",
    "mass, inertia"
   ]
  },
  {
   "cell_type": "code",
   "execution_count": 6,
   "metadata": {},
   "outputs": [
    {
     "data": {
      "text/plain": [
       "array([[0., 0., 0., 0.],\n",
       "       [0., 0., 0., 0.],\n",
       "       [0., 0., 0., 0.],\n",
       "       [0., 0., 0., 0.]])"
      ]
     },
     "execution_count": 6,
     "metadata": {},
     "output_type": "execute_result"
    }
   ],
   "source": [
    "arr = np.zeros((6,4,4))\n",
    "arr[0]"
   ]
  },
  {
   "cell_type": "code",
   "execution_count": 7,
   "metadata": {},
   "outputs": [],
   "source": [
    "arr[0] = [[1,2,3,4],[1,2,3,4],[1,2,3,4],[1,2,3,4]]"
   ]
  },
  {
   "cell_type": "code",
   "execution_count": 42,
   "metadata": {},
   "outputs": [
    {
     "data": {
      "text/plain": [
       "(q1, q2)"
      ]
     },
     "execution_count": 42,
     "metadata": {},
     "output_type": "execute_result"
    }
   ],
   "source": [
    "from sympy import Symbol, Matrix\n",
    "_q1 = Symbol('q1')\n",
    "_q2 = Symbol('q2')\n",
    "_q1, _q2"
   ]
  },
  {
   "cell_type": "code",
   "execution_count": 261,
   "metadata": {},
   "outputs": [
    {
     "data": {
      "text/plain": [
       "sympy.core.numbers.Float"
      ]
     },
     "execution_count": 261,
     "metadata": {},
     "output_type": "execute_result"
    }
   ],
   "source": [
    "type(cos(np.pi))"
   ]
  },
  {
   "cell_type": "code",
   "execution_count": 44,
   "metadata": {},
   "outputs": [
    {
     "data": {
      "text/plain": [
       "(Matrix([\n",
       " [   q1],\n",
       " [q1*q2],\n",
       " [    0],\n",
       " [   q1]]),\n",
       " Matrix([\n",
       " [q1],\n",
       " [q2]]))"
      ]
     },
     "execution_count": 44,
     "metadata": {},
     "output_type": "execute_result"
    }
   ],
   "source": [
    "X = Matrix([_q1, _q1*_q2, 0, _q1])\n",
    "Y = Matrix([_q1, _q2])\n",
    "X,Y"
   ]
  },
  {
   "cell_type": "code",
   "execution_count": 46,
   "metadata": {},
   "outputs": [
    {
     "data": {
      "text/latex": [
       "$\\displaystyle \\left[\\begin{matrix}1 & 0\\\\q_{2} & q_{1}\\\\0 & 0\\\\1 & 0\\end{matrix}\\right]$"
      ],
      "text/plain": [
       "Matrix([\n",
       "[ 1,  0],\n",
       "[q2, q1],\n",
       "[ 0,  0],\n",
       "[ 1,  0]])"
      ]
     },
     "execution_count": 46,
     "metadata": {},
     "output_type": "execute_result"
    }
   ],
   "source": [
    "X.jacobian(Y)"
   ]
  },
  {
   "cell_type": "code",
   "execution_count": 24,
   "metadata": {},
   "outputs": [
    {
     "name": "stdout",
     "output_type": "stream",
     "text": [
      "ROBOT_IP: 192.168.1.223, VERSION: v1.12.10, PROTOCOL: V1, DETAIL: 6,6,XI1304,AC1303,v1.12.10, TYPE1300: [1, 1]\n",
      "change protocol identifier to 3\n",
      "[SDK][ERROR][2025-03-19 11:25:38][base.py:380] - - API -> set_tcp_load -> code=9, weight=0.028, center=[0.0, 0.0, 0.0]\n",
      "[set_state], xArm is ready to move\n"
     ]
    },
    {
     "name": "stdout",
     "output_type": "stream",
     "text": [
      "ControllerError, code: 1\n",
      "ControllerError had clean\n"
     ]
    }
   ],
   "source": [
    "from robot import Robot\n",
    "from sympy import sin, cos\n",
    "\n",
    "robot = Robot('192.168.1.223')"
   ]
  },
  {
   "cell_type": "code",
   "execution_count": 48,
   "metadata": {},
   "outputs": [
    {
     "data": {
      "text/latex": [
       "$\\displaystyle \\left[\\begin{matrix}q_{0}\\\\q_{1}\\\\q_{2}\\\\q_{3}\\\\q_{4}\\\\q_{5}\\end{matrix}\\right]$"
      ],
      "text/plain": [
       "Matrix([\n",
       "[q0],\n",
       "[q1],\n",
       "[q2],\n",
       "[q3],\n",
       "[q4],\n",
       "[q5]])"
      ]
     },
     "execution_count": 48,
     "metadata": {},
     "output_type": "execute_result"
    }
   ],
   "source": [
    "q0 = Symbol('q0')\n",
    "q1 = Symbol('q1')\n",
    "q2 = Symbol('q2')\n",
    "q3 = Symbol('q3')\n",
    "q4 = Symbol('q4')\n",
    "q5 = Symbol('q5')\n",
    "q = Matrix([q0, q1, q2, q3, q4, q5])\n",
    "q"
   ]
  },
  {
   "cell_type": "code",
   "execution_count": 104,
   "metadata": {},
   "outputs": [
    {
     "data": {
      "text/latex": [
       "$\\displaystyle \\left[\\begin{matrix}0 & 0 & 0 & 0 & 0 & 0\\\\0 & 0 & 0 & 0 & 0 & 0\\\\0 & 0 & 0 & 0 & 0 & 0\\\\- 0.999999999999999 \\sin{\\left(q_{1} \\right)} & 0 & 0 & 0 & 0 & 0\\\\0.999999999999999 \\cos{\\left(q_{1} \\right)} & 0 & 0 & 0 & 0 & 0\\\\-4.37113900018624 \\cdot 10^{-8} & 0 & 0 & 0 & 0 & 0\\end{matrix}\\right]$"
      ],
      "text/plain": [
       "Matrix([\n",
       "[                         0, 0, 0, 0, 0, 0],\n",
       "[                         0, 0, 0, 0, 0, 0],\n",
       "[                         0, 0, 0, 0, 0, 0],\n",
       "[-0.999999999999999*sin(q1), 0, 0, 0, 0, 0],\n",
       "[ 0.999999999999999*cos(q1), 0, 0, 0, 0, 0],\n",
       "[      -4.37113900018624e-8, 0, 0, 0, 0, 0]])"
      ]
     },
     "execution_count": 104,
     "metadata": {},
     "output_type": "execute_result"
    }
   ],
   "source": [
    "T = Matrix([0, 0, 0.267])\n",
    "jV = T.jacobian(Matrix([q0, q1, q2, q3, q4, q5]))\n",
    "jW = Matrix([\n",
    "    [sin(q1+robot.dh_params[0][0].item())*sin(robot.dh_params[0][2].item()), 0,0,0,0,0],\n",
    "    [-cos(q1+robot.dh_params[0][0].item())*sin(robot.dh_params[0][2].item()), 0,0,0,0,0],\n",
    "    [cos(robot.dh_params[0][2].item()),0,0,0,0,0]])\n",
    "J = Matrix([jV, jW])\n",
    "J"
   ]
  },
  {
   "cell_type": "markdown",
   "metadata": {},
   "source": [
    "Looks like if we want to calculate the jacobian $\\mathbf{J}$, the best way would be to iterate over the various transformation matrices in the SymPy library, multiply them together and then compute the specific twists for each joint. Then we can create the body Jacobian."
   ]
  },
  {
   "cell_type": "code",
   "execution_count": 97,
   "metadata": {},
   "outputs": [
    {
     "data": {
      "text/latex": [
       "$\\displaystyle \\left[\\begin{matrix}\\cos{\\left(q_{1} \\right)} & 4.37113900018624 \\cdot 10^{-8} \\sin{\\left(q_{1} \\right)} & - 0.999999999999999 \\sin{\\left(q_{1} \\right)} & 0\\\\\\sin{\\left(q_{1} \\right)} & - 4.37113900018624 \\cdot 10^{-8} \\cos{\\left(q_{1} \\right)} & 0.999999999999999 \\cos{\\left(q_{1} \\right)} & 0\\\\0 & -0.999999999999999 & -4.37113900018624 \\cdot 10^{-8} & 0.266999989748001\\\\0 & 0 & 0 & 1\\end{matrix}\\right]$"
      ],
      "text/plain": [
       "Matrix([\n",
       "[cos(q1),  4.37113900018624e-8*sin(q1), -0.999999999999999*sin(q1),                 0],\n",
       "[sin(q1), -4.37113900018624e-8*cos(q1),  0.999999999999999*cos(q1),                 0],\n",
       "[      0,           -0.999999999999999,       -4.37113900018624e-8, 0.266999989748001],\n",
       "[      0,                            0,                          0,                 1]])"
      ]
     },
     "execution_count": 97,
     "metadata": {},
     "output_type": "execute_result"
    }
   ],
   "source": [
    "T = Matrix(4,4, [cos(q1+robot.dh_params[0][0].item()), -sin(q1+robot.dh_params[0][0].item())*cos(robot.dh_params[0][2].item()), sin(q1+robot.dh_params[0][0].item())*sin(robot.dh_params[0][2].item()), robot.dh_params[0][3].item()*cos(q1+robot.dh_params[0][0].item()),\n",
    "        sin(q1+robot.dh_params[0][0].item()), cos(q1+robot.dh_params[0][0].item())*cos(robot.dh_params[0][2].item()), -cos(q1+robot.dh_params[0][0].item())*sin(robot.dh_params[0][2].item()), robot.dh_params[0][3].item()*sin(q1+robot.dh_params[0][0].item()),\n",
    "           0, sin(robot.dh_params[0][2].item()), cos(robot.dh_params[0][2].item()), robot.dh_params[0][1].item(),\n",
    "           0, 0, 0, 1])\n",
    "T"
   ]
  },
  {
   "cell_type": "code",
   "execution_count": 226,
   "metadata": {},
   "outputs": [
    {
     "data": {
      "text/plain": [
       "(3, 3)"
      ]
     },
     "execution_count": 226,
     "metadata": {},
     "output_type": "execute_result"
    }
   ],
   "source": [
    "robot.inertia[0].shape"
   ]
  },
  {
   "cell_type": "code",
   "execution_count": 256,
   "metadata": {},
   "outputs": [
    {
     "data": {
      "text/latex": [
       "$\\displaystyle \\left[\\begin{matrix}0.00737 & -6.66 \\cdot 10^{-7} & -5.87 \\cdot 10^{-5} & -0.00262 & -5.87 \\cdot 10^{-5} & -3.6 \\cdot 10^{-6}\\\\-1.01 \\cdot 10^{-9} & 0.0115 & 0.0171 & -1.17 \\cdot 10^{-10} & 0.00525 & 2.44 \\cdot 10^{-5}\\\\-5.87 \\cdot 10^{-5} & 0.0171 & 0.037 & -5.87 \\cdot 10^{-5} & 0.0093 & 3.6 \\cdot 10^{-6}\\\\-0.00262 & -6.65 \\cdot 10^{-7} & -5.87 \\cdot 10^{-5} & 0.00104 & -5.87 \\cdot 10^{-5} & -3.6 \\cdot 10^{-6}\\\\-5.87 \\cdot 10^{-5} & 0.00525 & 0.0093 & -5.87 \\cdot 10^{-5} & 0.00264 & 3.6 \\cdot 10^{-6}\\\\6.38 \\cdot 10^{-13} & 2.44 \\cdot 10^{-5} & -6.41 \\cdot 10^{-12} & 6.38 \\cdot 10^{-13} & -6.41 \\cdot 10^{-12} & 0.000132\\end{matrix}\\right]$"
      ],
      "text/plain": [
       "Matrix([\n",
       "[ 0.00737, -6.66e-7,  -5.87e-5,  -0.00262,  -5.87e-5,  -3.6e-6],\n",
       "[-1.01e-9,   0.0115,    0.0171, -1.17e-10,   0.00525,  2.44e-5],\n",
       "[-5.87e-5,   0.0171,     0.037,  -5.87e-5,    0.0093,   3.6e-6],\n",
       "[-0.00262, -6.65e-7,  -5.87e-5,   0.00104,  -5.87e-5,  -3.6e-6],\n",
       "[-5.87e-5,  0.00525,    0.0093,  -5.87e-5,   0.00264,   3.6e-6],\n",
       "[6.38e-13,  2.44e-5, -6.41e-12,  6.38e-13, -6.41e-12, 0.000132]])"
      ]
     },
     "execution_count": 256,
     "metadata": {},
     "output_type": "execute_result"
    }
   ],
   "source": [
    "rot_axis = [2, 1, 1, 2, 1, 2]\n",
    "\n",
    "T = sympy.zeros(4,4)\n",
    "\n",
    "J = sympy.zeros(6,6)\n",
    "M = sympy.zeros(6,6)\n",
    "\n",
    "for i in range(0, 6):\n",
    "    if i == 0:\n",
    "        T = Matrix(4,4,[\n",
    "            cos(q[i]+robot.dh_params[i][0].item()), -sin(q[i]+robot.dh_params[i][0].item())*cos(robot.dh_params[i][2].item()), sin(q[i]+robot.dh_params[i][0].item())*sin(robot.dh_params[i][2].item()), robot.dh_params[i][3].item()*cos(q[i]+robot.dh_params[i][0].item()),\n",
    "            sin(q[i]+robot.dh_params[i][0].item()), cos(q[i]+robot.dh_params[i][0].item())*cos(robot.dh_params[i][2].item()), -cos(q[i]+robot.dh_params[i][0].item())*sin(robot.dh_params[i][2].item()), robot.dh_params[i][3].item()*sin(q[i]+robot.dh_params[i][0].item()),\n",
    "            0, sin(robot.dh_params[i][2].item()), cos(robot.dh_params[i][2].item()), robot.dh_params[i][1].item(),\n",
    "            0, 0, 0, 1\n",
    "        ])\n",
    "        T_p = T[0:3,3]\n",
    "        jV = T_p.jacobian(q)\n",
    "        jW = Matrix([[T[0:3,rot_axis[i]]]])\n",
    "        J[0:3,:] = jV\n",
    "        J[3:6,i] = jW\n",
    "        M = robot.mass[i].item()*jV.T*jV + J[3:6,:].T*Matrix(robot.inertia[i])*J[3:6,:]\n",
    "    else:\n",
    "        T_temp = Matrix(4,4,[\n",
    "            cos(q[i]+robot.dh_params[i][0].item()), -sin(q[i]+robot.dh_params[i][0].item())*cos(robot.dh_params[i][2].item()), sin(q[i]+robot.dh_params[i][0].item())*sin(robot.dh_params[i][2].item()), robot.dh_params[i][3].item()*cos(q[i]+robot.dh_params[i][0].item()),\n",
    "            sin(q[i]+robot.dh_params[i][0].item()), cos(q[i]+robot.dh_params[i][0].item())*cos(robot.dh_params[i][2].item()), -cos(q[i]+robot.dh_params[i][0].item())*sin(robot.dh_params[i][2].item()), robot.dh_params[i][3].item()*sin(q[i]+robot.dh_params[i][0].item()),\n",
    "            0, sin(robot.dh_params[i][2].item()), cos(robot.dh_params[i][2].item()), robot.dh_params[i][1].item(),\n",
    "            0, 0, 0, 1\n",
    "        ])\n",
    "        T = T * T_temp\n",
    "        T_p = T[0:3,3]\n",
    "        jV = T_p.jacobian(q)\n",
    "        jW = Matrix([[T[0:3,rot_axis[i]]]])\n",
    "        J[0:3,:] = jV\n",
    "        J[3:6,i] = jW\n",
    "        M = robot.mass[i].item()*jV.T*jV + J[3:6,:].T*Matrix(robot.inertia[i])*J[3:6,:]\n",
    "\n",
    "M.subs(eval).evalf(3)"
   ]
  },
  {
   "cell_type": "code",
   "execution_count": 257,
   "metadata": {},
   "outputs": [
    {
     "data": {
      "text/latex": [
       "$\\displaystyle \\left[\\begin{matrix}0.00737 & -6.66 \\cdot 10^{-7} & -5.87 \\cdot 10^{-5} & -0.00262 & -5.87 \\cdot 10^{-5} & -3.6 \\cdot 10^{-6}\\\\-1.01 \\cdot 10^{-9} & 0.0115 & 0.0171 & -1.17 \\cdot 10^{-10} & 0.00525 & 2.44 \\cdot 10^{-5}\\\\-5.87 \\cdot 10^{-5} & 0.0171 & 0.037 & -5.87 \\cdot 10^{-5} & 0.0093 & 3.6 \\cdot 10^{-6}\\\\-0.00262 & -6.65 \\cdot 10^{-7} & -5.87 \\cdot 10^{-5} & 0.00104 & -5.87 \\cdot 10^{-5} & -3.6 \\cdot 10^{-6}\\\\-5.87 \\cdot 10^{-5} & 0.00525 & 0.0093 & -5.87 \\cdot 10^{-5} & 0.00264 & 3.6 \\cdot 10^{-6}\\\\6.38 \\cdot 10^{-13} & 2.44 \\cdot 10^{-5} & -6.41 \\cdot 10^{-12} & 6.38 \\cdot 10^{-13} & -6.41 \\cdot 10^{-12} & 0.000132\\end{matrix}\\right]$"
      ],
      "text/plain": [
       "Matrix([\n",
       "[ 0.00737, -6.66e-7,  -5.87e-5,  -0.00262,  -5.87e-5,  -3.6e-6],\n",
       "[-1.01e-9,   0.0115,    0.0171, -1.17e-10,   0.00525,  2.44e-5],\n",
       "[-5.87e-5,   0.0171,     0.037,  -5.87e-5,    0.0093,   3.6e-6],\n",
       "[-0.00262, -6.65e-7,  -5.87e-5,   0.00104,  -5.87e-5,  -3.6e-6],\n",
       "[-5.87e-5,  0.00525,    0.0093,  -5.87e-5,   0.00264,   3.6e-6],\n",
       "[6.38e-13,  2.44e-5, -6.41e-12,  6.38e-13, -6.41e-12, 0.000132]])"
      ]
     },
     "execution_count": 257,
     "metadata": {},
     "output_type": "execute_result"
    }
   ],
   "source": [
    "eval = {\n",
    "    q[0]: 0,\n",
    "    q[1]: 0,\n",
    "    q[2]: 0,\n",
    "    q[3]: 0,\n",
    "    q[4]: 0,\n",
    "    q[5]: 0\n",
    "}\n",
    "M_eval = M.subs(eval)\n",
    "M_eval = M_eval.evalf(n=3)\n",
    "M_eval"
   ]
  },
  {
   "cell_type": "code",
   "execution_count": 258,
   "metadata": {},
   "outputs": [
    {
     "data": {
      "text/latex": [
       "$\\displaystyle \\left[\\begin{matrix}0.00737 & 0 & 0 & -0.00262 & 0 & 0\\\\0 & 0.0115 & 0.0171 & 0 & 0.00525 & 0\\\\0 & 0.0171 & 0.037 & 0 & 0.0093 & 0\\\\-0.00262 & 0 & 0 & 0.00104 & 0 & 0\\\\0 & 0.00525 & 0.0093 & 0 & 0.00264 & 0\\\\0 & 0 & 0 & 0 & 0 & 0\\end{matrix}\\right]$"
      ],
      "text/plain": [
       "Matrix([\n",
       "[ 0.00737,       0,      0, -0.00262,       0, 0],\n",
       "[       0,  0.0115, 0.0171,        0, 0.00525, 0],\n",
       "[       0,  0.0171,  0.037,        0,  0.0093, 0],\n",
       "[-0.00262,       0,      0,  0.00104,       0, 0],\n",
       "[       0, 0.00525, 0.0093,        0, 0.00264, 0],\n",
       "[       0,       0,      0,        0,       0, 0]])"
      ]
     },
     "execution_count": 258,
     "metadata": {},
     "output_type": "execute_result"
    }
   ],
   "source": [
    "M_eval.applyfunc(lambda i: 0 if -1e-3<i<1e-3 else i)"
   ]
  },
  {
   "cell_type": "code",
   "execution_count": 266,
   "metadata": {},
   "outputs": [
    {
     "data": {
      "text/plain": [
       "Array([[ 7.3699951e-03, -6.6601206e-07, -5.8703125e-05, -2.6206970e-03,\n",
       "        -5.8703125e-05, -3.6000274e-06],\n",
       "       [-1.0097665e-09,  1.1541367e-02,  1.7097473e-02, -1.1652901e-10,\n",
       "         5.2518845e-03,  2.4385750e-05],\n",
       "       [-5.8703125e-05,  1.7097473e-02,  3.7002563e-02, -5.8703125e-05,\n",
       "         9.3040466e-03,  3.6000274e-06],\n",
       "       [-2.6206970e-03, -6.6519715e-07, -5.8703125e-05,  1.0406971e-03,\n",
       "        -5.8703125e-05, -3.6000274e-06],\n",
       "       [-5.8703125e-05,  5.2518845e-03,  9.3040466e-03, -5.8703125e-05,\n",
       "         2.6402473e-03,  3.6000274e-06],\n",
       "       [ 6.3815619e-13,  2.4385750e-05, -6.4082073e-12,  6.3815619e-13,\n",
       "        -6.4082073e-12,  1.3199449e-04]], dtype=float32)"
      ]
     },
     "execution_count": 266,
     "metadata": {},
     "output_type": "execute_result"
    }
   ],
   "source": [
    "import jax.numpy as jnp\n",
    "\n",
    "t = np.array(M_eval).astype(np.float64)\n",
    "jnp.array(t)"
   ]
  },
  {
   "cell_type": "code",
   "execution_count": 268,
   "metadata": {},
   "outputs": [
    {
     "ename": "TypeError",
     "evalue": "Value '[[0.00737 -6.66e-7 -5.87e-5 -0.00262 -5.87e-5 -3.60e-6]\n [-1.01e-9 0.0115 0.0171 -1.17e-10 0.00525 2.44e-5]\n [-5.87e-5 0.0171 0.0370 -5.87e-5 0.00930 3.60e-6]\n [-0.00262 -6.65e-7 -5.87e-5 0.00104 -5.87e-5 -3.60e-6]\n [-5.87e-5 0.00525 0.00930 -5.87e-5 0.00264 3.60e-6]\n [6.38e-13 2.44e-5 -6.41e-12 6.38e-13 -6.41e-12 0.000132]]' with dtype object is not a valid JAX array type. Only arrays of numeric types are supported by JAX.",
     "output_type": "error",
     "traceback": [
      "\u001b[0;31m---------------------------------------------------------------------------\u001b[0m",
      "\u001b[0;31mTypeError\u001b[0m                                 Traceback (most recent call last)",
      "File \u001b[0;32m~/anaconda3/envs/geo-visual-servo/lib/python3.10/site-packages/jax/_src/dtypes.py:829\u001b[0m, in \u001b[0;36mdtype\u001b[0;34m(x, canonicalize)\u001b[0m\n\u001b[1;32m    828\u001b[0m \u001b[38;5;28;01mtry\u001b[39;00m:\n\u001b[0;32m--> 829\u001b[0m   dt \u001b[38;5;241m=\u001b[39m \u001b[43mnp\u001b[49m\u001b[38;5;241;43m.\u001b[39;49m\u001b[43mresult_type\u001b[49m\u001b[43m(\u001b[49m\u001b[43mx\u001b[49m\u001b[43m)\u001b[49m\n\u001b[1;32m    830\u001b[0m \u001b[38;5;28;01mexcept\u001b[39;00m \u001b[38;5;167;01mTypeError\u001b[39;00m \u001b[38;5;28;01mas\u001b[39;00m err:\n",
      "\u001b[0;31mTypeError\u001b[0m: Cannot interpret 'Matrix([\n[ 0.00737, -6.66e-7,  -5.87e-5,  -0.00262,  -5.87e-5,  -3.6e-6],\n[-1.01e-9,   0.0115,    0.0171, -1.17e-10,   0.00525,  2.44e-5],\n[-5.87e-5,   0.0171,     0.037,  -5.87e-5,    0.0093,   3.6e-6],\n[-0.00262, -6.65e-7,  -5.87e-5,   0.00104,  -5.87e-5,  -3.6e-6],\n[-5.87e-5,  0.00525,    0.0093,  -5.87e-5,   0.00264,   3.6e-6],\n[6.38e-13,  2.44e-5, -6.41e-12,  6.38e-13, -6.41e-12, 0.000132]])' as a data type",
      "\nThe above exception was the direct cause of the following exception:\n",
      "\u001b[0;31mTypeError\u001b[0m                                 Traceback (most recent call last)",
      "File \u001b[0;32m~/anaconda3/envs/geo-visual-servo/lib/python3.10/site-packages/jax/_src/numpy/lax_numpy.py:5534\u001b[0m, in \u001b[0;36marray\u001b[0;34m(object, dtype, copy, order, ndmin, device)\u001b[0m\n\u001b[1;32m   5533\u001b[0m \u001b[38;5;28;01mtry\u001b[39;00m:\n\u001b[0;32m-> 5534\u001b[0m   dtype \u001b[38;5;241m=\u001b[39m \u001b[43mdtypes\u001b[49m\u001b[38;5;241;43m.\u001b[39;49m\u001b[43m_lattice_result_type\u001b[49m\u001b[43m(\u001b[49m\u001b[38;5;241;43m*\u001b[39;49m\u001b[43mleaves\u001b[49m\u001b[43m)\u001b[49m[\u001b[38;5;241m0\u001b[39m] \u001b[38;5;28;01mif\u001b[39;00m leaves \u001b[38;5;28;01melse\u001b[39;00m dtypes\u001b[38;5;241m.\u001b[39mfloat_\n\u001b[1;32m   5535\u001b[0m \u001b[38;5;28;01mexcept\u001b[39;00m \u001b[38;5;167;01mTypeError\u001b[39;00m:\n\u001b[1;32m   5536\u001b[0m   \u001b[38;5;66;03m# This happens if, e.g. one of the entries is a memoryview object.\u001b[39;00m\n\u001b[1;32m   5537\u001b[0m   \u001b[38;5;66;03m# This is rare, so we only handle it if the normal path fails.\u001b[39;00m\n",
      "File \u001b[0;32m~/anaconda3/envs/geo-visual-servo/lib/python3.10/site-packages/jax/_src/dtypes.py:839\u001b[0m, in \u001b[0;36m_lattice_result_type\u001b[0;34m(*args)\u001b[0m\n\u001b[1;32m    838\u001b[0m \u001b[38;5;28;01mdef\u001b[39;00m\u001b[38;5;250m \u001b[39m\u001b[38;5;21m_lattice_result_type\u001b[39m(\u001b[38;5;241m*\u001b[39margs: Any) \u001b[38;5;241m-\u001b[39m\u001b[38;5;241m>\u001b[39m \u001b[38;5;28mtuple\u001b[39m[DType, \u001b[38;5;28mbool\u001b[39m]:\n\u001b[0;32m--> 839\u001b[0m   dtypes, weak_types \u001b[38;5;241m=\u001b[39m \u001b[38;5;28;43mzip\u001b[39;49m\u001b[43m(\u001b[49m\u001b[38;5;241;43m*\u001b[39;49m\u001b[43m(\u001b[49m\u001b[43m_dtype_and_weaktype\u001b[49m\u001b[43m(\u001b[49m\u001b[43marg\u001b[49m\u001b[43m)\u001b[49m\u001b[43m \u001b[49m\u001b[38;5;28;43;01mfor\u001b[39;49;00m\u001b[43m \u001b[49m\u001b[43marg\u001b[49m\u001b[43m \u001b[49m\u001b[38;5;129;43;01min\u001b[39;49;00m\u001b[43m \u001b[49m\u001b[43margs\u001b[49m\u001b[43m)\u001b[49m\u001b[43m)\u001b[49m\n\u001b[1;32m    840\u001b[0m   \u001b[38;5;28;01mif\u001b[39;00m \u001b[38;5;28mlen\u001b[39m(dtypes) \u001b[38;5;241m==\u001b[39m \u001b[38;5;241m1\u001b[39m:\n",
      "File \u001b[0;32m~/anaconda3/envs/geo-visual-servo/lib/python3.10/site-packages/jax/_src/dtypes.py:839\u001b[0m, in \u001b[0;36m<genexpr>\u001b[0;34m(.0)\u001b[0m\n\u001b[1;32m    838\u001b[0m \u001b[38;5;28;01mdef\u001b[39;00m\u001b[38;5;250m \u001b[39m\u001b[38;5;21m_lattice_result_type\u001b[39m(\u001b[38;5;241m*\u001b[39margs: Any) \u001b[38;5;241m-\u001b[39m\u001b[38;5;241m>\u001b[39m \u001b[38;5;28mtuple\u001b[39m[DType, \u001b[38;5;28mbool\u001b[39m]:\n\u001b[0;32m--> 839\u001b[0m   dtypes, weak_types \u001b[38;5;241m=\u001b[39m \u001b[38;5;28mzip\u001b[39m(\u001b[38;5;241m*\u001b[39m(\u001b[43m_dtype_and_weaktype\u001b[49m\u001b[43m(\u001b[49m\u001b[43marg\u001b[49m\u001b[43m)\u001b[49m \u001b[38;5;28;01mfor\u001b[39;00m arg \u001b[38;5;129;01min\u001b[39;00m args))\n\u001b[1;32m    840\u001b[0m   \u001b[38;5;28;01mif\u001b[39;00m \u001b[38;5;28mlen\u001b[39m(dtypes) \u001b[38;5;241m==\u001b[39m \u001b[38;5;241m1\u001b[39m:\n",
      "File \u001b[0;32m~/anaconda3/envs/geo-visual-servo/lib/python3.10/site-packages/jax/_src/dtypes.py:604\u001b[0m, in \u001b[0;36m_dtype_and_weaktype\u001b[0;34m(value)\u001b[0m\n\u001b[1;32m    603\u001b[0m \u001b[38;5;250m\u001b[39m\u001b[38;5;124;03m\"\"\"Return a (dtype, weak_type) tuple for the given input.\"\"\"\u001b[39;00m\n\u001b[0;32m--> 604\u001b[0m \u001b[38;5;28;01mreturn\u001b[39;00m \u001b[43mdtype\u001b[49m\u001b[43m(\u001b[49m\u001b[43mvalue\u001b[49m\u001b[43m)\u001b[49m, \u001b[38;5;28many\u001b[39m(value \u001b[38;5;129;01mis\u001b[39;00m typ \u001b[38;5;28;01mfor\u001b[39;00m typ \u001b[38;5;129;01min\u001b[39;00m _weak_types) \u001b[38;5;129;01mor\u001b[39;00m is_weakly_typed(value)\n",
      "File \u001b[0;32m~/anaconda3/envs/geo-visual-servo/lib/python3.10/site-packages/jax/_src/dtypes.py:831\u001b[0m, in \u001b[0;36mdtype\u001b[0;34m(x, canonicalize)\u001b[0m\n\u001b[1;32m    830\u001b[0m   \u001b[38;5;28;01mexcept\u001b[39;00m \u001b[38;5;167;01mTypeError\u001b[39;00m \u001b[38;5;28;01mas\u001b[39;00m err:\n\u001b[0;32m--> 831\u001b[0m     \u001b[38;5;28;01mraise\u001b[39;00m \u001b[38;5;167;01mTypeError\u001b[39;00m(\u001b[38;5;124mf\u001b[39m\u001b[38;5;124m\"\u001b[39m\u001b[38;5;124mCannot determine dtype of \u001b[39m\u001b[38;5;132;01m{\u001b[39;00mx\u001b[38;5;132;01m}\u001b[39;00m\u001b[38;5;124m\"\u001b[39m) \u001b[38;5;28;01mfrom\u001b[39;00m\u001b[38;5;250m \u001b[39m\u001b[38;5;21;01merr\u001b[39;00m\n\u001b[1;32m    832\u001b[0m \u001b[38;5;28;01mif\u001b[39;00m dt \u001b[38;5;129;01mnot\u001b[39;00m \u001b[38;5;129;01min\u001b[39;00m _jax_dtype_set \u001b[38;5;129;01mand\u001b[39;00m \u001b[38;5;129;01mnot\u001b[39;00m issubdtype(dt, extended):\n",
      "\u001b[0;31mTypeError\u001b[0m: Cannot determine dtype of Matrix([[0.00737, -6.66e-7, -5.87e-5, -0.00262, -5.87e-5, -3.60e-6], [-1.01e-9, 0.0115, 0.0171, -1.17e-10, 0.00525, 2.44e-5], [-5.87e-5, 0.0171, 0.0370, -5.87e-5, 0.00930, 3.60e-6], [-0.00262, -6.65e-7, -5.87e-5, 0.00104, -5.87e-5, -3.60e-6], [-5.87e-5, 0.00525, 0.00930, -5.87e-5, 0.00264, 3.60e-6], [6.38e-13, 2.44e-5, -6.41e-12, 6.38e-13, -6.41e-12, 0.000132]])",
      "\nDuring handling of the above exception, another exception occurred:\n",
      "\u001b[0;31mTypeError\u001b[0m                                 Traceback (most recent call last)",
      "Cell \u001b[0;32mIn[268], line 1\u001b[0m\n\u001b[0;32m----> 1\u001b[0m \u001b[43mjnp\u001b[49m\u001b[38;5;241;43m.\u001b[39;49m\u001b[43marray\u001b[49m\u001b[43m(\u001b[49m\u001b[43mM_eval\u001b[49m\u001b[43m)\u001b[49m\n",
      "File \u001b[0;32m~/anaconda3/envs/geo-visual-servo/lib/python3.10/site-packages/jax/_src/numpy/lax_numpy.py:5539\u001b[0m, in \u001b[0;36marray\u001b[0;34m(object, dtype, copy, order, ndmin, device)\u001b[0m\n\u001b[1;32m   5535\u001b[0m   \u001b[38;5;28;01mexcept\u001b[39;00m \u001b[38;5;167;01mTypeError\u001b[39;00m:\n\u001b[1;32m   5536\u001b[0m     \u001b[38;5;66;03m# This happens if, e.g. one of the entries is a memoryview object.\u001b[39;00m\n\u001b[1;32m   5537\u001b[0m     \u001b[38;5;66;03m# This is rare, so we only handle it if the normal path fails.\u001b[39;00m\n\u001b[1;32m   5538\u001b[0m     leaves \u001b[38;5;241m=\u001b[39m [_convert_to_array_if_dtype_fails(leaf) \u001b[38;5;28;01mfor\u001b[39;00m leaf \u001b[38;5;129;01min\u001b[39;00m leaves]\n\u001b[0;32m-> 5539\u001b[0m     dtype \u001b[38;5;241m=\u001b[39m \u001b[43mdtypes\u001b[49m\u001b[38;5;241;43m.\u001b[39;49m\u001b[43m_lattice_result_type\u001b[49m\u001b[43m(\u001b[49m\u001b[38;5;241;43m*\u001b[39;49m\u001b[43mleaves\u001b[49m\u001b[43m)\u001b[49m[\u001b[38;5;241m0\u001b[39m]\n\u001b[1;32m   5541\u001b[0m \u001b[38;5;28;01mif\u001b[39;00m \u001b[38;5;129;01mnot\u001b[39;00m weak_type:\n\u001b[1;32m   5542\u001b[0m   dtype \u001b[38;5;241m=\u001b[39m dtypes\u001b[38;5;241m.\u001b[39mcanonicalize_dtype(dtype, allow_extended_dtype\u001b[38;5;241m=\u001b[39m\u001b[38;5;28;01mTrue\u001b[39;00m)  \u001b[38;5;66;03m# type: ignore[assignment]\u001b[39;00m\n",
      "File \u001b[0;32m~/anaconda3/envs/geo-visual-servo/lib/python3.10/site-packages/jax/_src/dtypes.py:839\u001b[0m, in \u001b[0;36m_lattice_result_type\u001b[0;34m(*args)\u001b[0m\n\u001b[1;32m    838\u001b[0m \u001b[38;5;28;01mdef\u001b[39;00m\u001b[38;5;250m \u001b[39m\u001b[38;5;21m_lattice_result_type\u001b[39m(\u001b[38;5;241m*\u001b[39margs: Any) \u001b[38;5;241m-\u001b[39m\u001b[38;5;241m>\u001b[39m \u001b[38;5;28mtuple\u001b[39m[DType, \u001b[38;5;28mbool\u001b[39m]:\n\u001b[0;32m--> 839\u001b[0m   dtypes, weak_types \u001b[38;5;241m=\u001b[39m \u001b[38;5;28;43mzip\u001b[39;49m\u001b[43m(\u001b[49m\u001b[38;5;241;43m*\u001b[39;49m\u001b[43m(\u001b[49m\u001b[43m_dtype_and_weaktype\u001b[49m\u001b[43m(\u001b[49m\u001b[43marg\u001b[49m\u001b[43m)\u001b[49m\u001b[43m \u001b[49m\u001b[38;5;28;43;01mfor\u001b[39;49;00m\u001b[43m \u001b[49m\u001b[43marg\u001b[49m\u001b[43m \u001b[49m\u001b[38;5;129;43;01min\u001b[39;49;00m\u001b[43m \u001b[49m\u001b[43margs\u001b[49m\u001b[43m)\u001b[49m\u001b[43m)\u001b[49m\n\u001b[1;32m    840\u001b[0m   \u001b[38;5;28;01mif\u001b[39;00m \u001b[38;5;28mlen\u001b[39m(dtypes) \u001b[38;5;241m==\u001b[39m \u001b[38;5;241m1\u001b[39m:\n\u001b[1;32m    841\u001b[0m     out_dtype \u001b[38;5;241m=\u001b[39m dtypes[\u001b[38;5;241m0\u001b[39m]\n",
      "File \u001b[0;32m~/anaconda3/envs/geo-visual-servo/lib/python3.10/site-packages/jax/_src/dtypes.py:839\u001b[0m, in \u001b[0;36m<genexpr>\u001b[0;34m(.0)\u001b[0m\n\u001b[1;32m    838\u001b[0m \u001b[38;5;28;01mdef\u001b[39;00m\u001b[38;5;250m \u001b[39m\u001b[38;5;21m_lattice_result_type\u001b[39m(\u001b[38;5;241m*\u001b[39margs: Any) \u001b[38;5;241m-\u001b[39m\u001b[38;5;241m>\u001b[39m \u001b[38;5;28mtuple\u001b[39m[DType, \u001b[38;5;28mbool\u001b[39m]:\n\u001b[0;32m--> 839\u001b[0m   dtypes, weak_types \u001b[38;5;241m=\u001b[39m \u001b[38;5;28mzip\u001b[39m(\u001b[38;5;241m*\u001b[39m(\u001b[43m_dtype_and_weaktype\u001b[49m\u001b[43m(\u001b[49m\u001b[43marg\u001b[49m\u001b[43m)\u001b[49m \u001b[38;5;28;01mfor\u001b[39;00m arg \u001b[38;5;129;01min\u001b[39;00m args))\n\u001b[1;32m    840\u001b[0m   \u001b[38;5;28;01mif\u001b[39;00m \u001b[38;5;28mlen\u001b[39m(dtypes) \u001b[38;5;241m==\u001b[39m \u001b[38;5;241m1\u001b[39m:\n\u001b[1;32m    841\u001b[0m     out_dtype \u001b[38;5;241m=\u001b[39m dtypes[\u001b[38;5;241m0\u001b[39m]\n",
      "File \u001b[0;32m~/anaconda3/envs/geo-visual-servo/lib/python3.10/site-packages/jax/_src/dtypes.py:604\u001b[0m, in \u001b[0;36m_dtype_and_weaktype\u001b[0;34m(value)\u001b[0m\n\u001b[1;32m    602\u001b[0m \u001b[38;5;28;01mdef\u001b[39;00m\u001b[38;5;250m \u001b[39m\u001b[38;5;21m_dtype_and_weaktype\u001b[39m(value: Any) \u001b[38;5;241m-\u001b[39m\u001b[38;5;241m>\u001b[39m \u001b[38;5;28mtuple\u001b[39m[DType, \u001b[38;5;28mbool\u001b[39m]:\n\u001b[1;32m    603\u001b[0m \u001b[38;5;250m  \u001b[39m\u001b[38;5;124;03m\"\"\"Return a (dtype, weak_type) tuple for the given input.\"\"\"\u001b[39;00m\n\u001b[0;32m--> 604\u001b[0m   \u001b[38;5;28;01mreturn\u001b[39;00m \u001b[43mdtype\u001b[49m\u001b[43m(\u001b[49m\u001b[43mvalue\u001b[49m\u001b[43m)\u001b[49m, \u001b[38;5;28many\u001b[39m(value \u001b[38;5;129;01mis\u001b[39;00m typ \u001b[38;5;28;01mfor\u001b[39;00m typ \u001b[38;5;129;01min\u001b[39;00m _weak_types) \u001b[38;5;129;01mor\u001b[39;00m is_weakly_typed(value)\n",
      "File \u001b[0;32m~/anaconda3/envs/geo-visual-servo/lib/python3.10/site-packages/jax/_src/dtypes.py:833\u001b[0m, in \u001b[0;36mdtype\u001b[0;34m(x, canonicalize)\u001b[0m\n\u001b[1;32m    831\u001b[0m     \u001b[38;5;28;01mraise\u001b[39;00m \u001b[38;5;167;01mTypeError\u001b[39;00m(\u001b[38;5;124mf\u001b[39m\u001b[38;5;124m\"\u001b[39m\u001b[38;5;124mCannot determine dtype of \u001b[39m\u001b[38;5;132;01m{\u001b[39;00mx\u001b[38;5;132;01m}\u001b[39;00m\u001b[38;5;124m\"\u001b[39m) \u001b[38;5;28;01mfrom\u001b[39;00m\u001b[38;5;250m \u001b[39m\u001b[38;5;21;01merr\u001b[39;00m\n\u001b[1;32m    832\u001b[0m \u001b[38;5;28;01mif\u001b[39;00m dt \u001b[38;5;129;01mnot\u001b[39;00m \u001b[38;5;129;01min\u001b[39;00m _jax_dtype_set \u001b[38;5;129;01mand\u001b[39;00m \u001b[38;5;129;01mnot\u001b[39;00m issubdtype(dt, extended):\n\u001b[0;32m--> 833\u001b[0m   \u001b[38;5;28;01mraise\u001b[39;00m \u001b[38;5;167;01mTypeError\u001b[39;00m(\u001b[38;5;124mf\u001b[39m\u001b[38;5;124m\"\u001b[39m\u001b[38;5;124mValue \u001b[39m\u001b[38;5;124m'\u001b[39m\u001b[38;5;132;01m{\u001b[39;00mx\u001b[38;5;132;01m}\u001b[39;00m\u001b[38;5;124m'\u001b[39m\u001b[38;5;124m with dtype \u001b[39m\u001b[38;5;132;01m{\u001b[39;00mdt\u001b[38;5;132;01m}\u001b[39;00m\u001b[38;5;124m is not a valid JAX array \u001b[39m\u001b[38;5;124m\"\u001b[39m\n\u001b[1;32m    834\u001b[0m                   \u001b[38;5;124m\"\u001b[39m\u001b[38;5;124mtype. Only arrays of numeric types are supported by JAX.\u001b[39m\u001b[38;5;124m\"\u001b[39m)\n\u001b[1;32m    835\u001b[0m \u001b[38;5;66;03m# TODO(jakevdp): fix return type annotation and remove this ignore.\u001b[39;00m\n\u001b[1;32m    836\u001b[0m \u001b[38;5;28;01mreturn\u001b[39;00m canonicalize_dtype(dt, allow_extended_dtype\u001b[38;5;241m=\u001b[39m\u001b[38;5;28;01mTrue\u001b[39;00m) \u001b[38;5;28;01mif\u001b[39;00m canonicalize \u001b[38;5;28;01melse\u001b[39;00m dt\n",
      "\u001b[0;31mTypeError\u001b[0m: Value '[[0.00737 -6.66e-7 -5.87e-5 -0.00262 -5.87e-5 -3.60e-6]\n [-1.01e-9 0.0115 0.0171 -1.17e-10 0.00525 2.44e-5]\n [-5.87e-5 0.0171 0.0370 -5.87e-5 0.00930 3.60e-6]\n [-0.00262 -6.65e-7 -5.87e-5 0.00104 -5.87e-5 -3.60e-6]\n [-5.87e-5 0.00525 0.00930 -5.87e-5 0.00264 3.60e-6]\n [6.38e-13 2.44e-5 -6.41e-12 6.38e-13 -6.41e-12 0.000132]]' with dtype object is not a valid JAX array type. Only arrays of numeric types are supported by JAX."
     ]
    }
   ],
   "source": [
    "jnp.array(M_eval)"
   ]
  },
  {
   "cell_type": "code",
   "execution_count": 96,
   "metadata": {},
   "outputs": [
    {
     "data": {
      "text/latex": [
       "$\\displaystyle \\left[\\begin{matrix}1.0 & 2.86759601556699 \\cdot 10^{-24} & -2.77555756156289 \\cdot 10^{-17} & 0.207386745440213\\\\0 & -0.999999999999996 & -8.74227800037247 \\cdot 10^{-8} & -2.60508448676684 \\cdot 10^{-8}\\\\0 & 8.74227800037247 \\cdot 10^{-8} & -0.999999999999996 & 0.111026149273597\\\\0 & 0 & 0 & 1\\end{matrix}\\right]$"
      ],
      "text/plain": [
       "Matrix([\n",
       "[1.0, 2.86759601556699e-24, -2.77555756156289e-17,    0.207386745440213],\n",
       "[  0,   -0.999999999999996,  -8.74227800037247e-8, -2.60508448676684e-8],\n",
       "[  0,  8.74227800037247e-8,    -0.999999999999996,    0.111026149273597],\n",
       "[  0,                    0,                     0,                    1]])"
      ]
     },
     "execution_count": 96,
     "metadata": {},
     "output_type": "execute_result"
    }
   ],
   "source": [
    "eval = {\n",
    "    q[0]: 0,\n",
    "    q[1]: 0,\n",
    "    q[2]: 0,\n",
    "    q[3]: 0,\n",
    "    q[4]: 0,\n",
    "    q[5]: 0\n",
    "}\n",
    "T.subs(eval)"
   ]
  },
  {
   "cell_type": "code",
   "execution_count": 133,
   "metadata": {},
   "outputs": [
    {
     "data": {
      "text/latex": [
       "$\\displaystyle \\left[\\begin{matrix}0.0058562 & 1.79 \\cdot 10^{-5} & -3.55 \\cdot 10^{-6}\\\\0 & 0.0050316 & 0.000888336\\\\0 & 0 & 0.00353665\\end{matrix}\\right]$"
      ],
      "text/plain": [
       "Matrix([\n",
       "[0.0058562,   1.79e-5,    -3.55e-6],\n",
       "[        0, 0.0050316, 0.000888336],\n",
       "[        0,         0,  0.00353665]])"
      ]
     },
     "execution_count": 133,
     "metadata": {},
     "output_type": "execute_result"
    }
   ],
   "source": [
    "Matrix(robot.inertia[0])"
   ]
  },
  {
   "cell_type": "code",
   "execution_count": null,
   "metadata": {},
   "outputs": [],
   "source": []
  }
 ],
 "metadata": {
  "kernelspec": {
   "display_name": "geo-visual-servo",
   "language": "python",
   "name": "python3"
  },
  "language_info": {
   "codemirror_mode": {
    "name": "ipython",
    "version": 3
   },
   "file_extension": ".py",
   "mimetype": "text/x-python",
   "name": "python",
   "nbconvert_exporter": "python",
   "pygments_lexer": "ipython3",
   "version": "3.10.16"
  }
 },
 "nbformat": 4,
 "nbformat_minor": 2
}
